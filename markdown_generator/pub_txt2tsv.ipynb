{
 "cells": [
  {
   "cell_type": "code",
   "execution_count": 1,
   "metadata": {
    "collapsed": true
   },
   "outputs": [
    {
     "name": "stdout",
     "output_type": "stream",
     "text": [
      "3\n"
     ]
    }
   ],
   "source": [
    "print (3)"
   ]
  },
  {
   "cell_type": "code",
   "execution_count": 7,
   "metadata": {},
   "outputs": [
    {
     "name": "stdout",
     "output_type": "stream",
     "text": [
      "Po-Sen Huang, Chenglong Wang, Rishabh Singh, Wen-tau Yih and Xiaodong He\t\tNatural Language to Structured Query Generation via Meta-Learning\tin Proceedings of the 2018 Conference of the North American Chapter of the Association for Computational Linguistics: Human Language Technologies (NAACL-HLT-2018)\tAssociation for Computational Linguistics\tJune 2018.\n"
     ]
    }
   ],
   "source": [
    "\n",
    "\n",
    "f = ['Po-Sen Huang, Chenglong Wang, Rishabh Singh, Wen-tau Yih and Xiaodong He, Natural Language to Structured Query Generation via Meta-Learning, in Proceedings of the 2018 Conference of the North American Chapter of the Association for Computational Linguistics: Human Language Technologies (NAACL-HLT-2018), Association for Computational Linguistics, June 2018.']\n",
    "\n",
    "#f = open('publications.txt')\n",
    "for ln in f:\n",
    "    ln = ln.rstrip()\n",
    "    # identify the authors \n",
    "    and_pos = ln.find(' and ')\n",
    "    comma_pos = ln.find(',', and_pos)\n",
    "    \n",
    "    authors = ln[:comma_pos]\n",
    "    fields = ln[comma_pos:].split(', ')\n",
    "    \n",
    "    print(\"\\t\".join([authors] + fields))"
   ]
  },
  {
   "cell_type": "code",
   "execution_count": null,
   "metadata": {},
   "outputs": [],
   "source": []
  }
 ],
 "metadata": {
  "kernelspec": {
   "display_name": "Python 2",
   "language": "python",
   "name": "python2"
  },
  "language_info": {
   "codemirror_mode": {
    "name": "ipython",
    "version": 2
   },
   "file_extension": ".py",
   "mimetype": "text/x-python",
   "name": "python",
   "nbconvert_exporter": "python",
   "pygments_lexer": "ipython2",
   "version": "2.7.6"
  }
 },
 "nbformat": 4,
 "nbformat_minor": 0
}
